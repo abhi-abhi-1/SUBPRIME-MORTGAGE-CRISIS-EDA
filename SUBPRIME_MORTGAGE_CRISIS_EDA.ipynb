{
 "cells": [
  {
   "cell_type": "markdown",
   "metadata": {},
   "source": [
    "<hr/>\n",
    "\n",
    "# Subprime Mortgagae Crisis EDA\n",
    "ABHISHEK YADAV\n",
    "<hr/>\n",
    "\n",
    "### Table of Contents\n",
    "1. [Introduction](#ch1)\n",
    "1. [Get the Data](#ch2)\n",
    "1. [Data](#ch3)\n",
    "1. [Exploratory Data Analysis](#ch4)\n",
    "1. [Standard Deviation](#ch5)\n",
    "1. [Pearson Correlation Matrix](#ch6)\n",
    "1. [Financial Charts - Plotly](#ch7)\n",
    "1. [Returns Histogram](#ch8)\n",
    "1. [Moving Averages](#ch9)\n",
    "1. [Simple Moving Averages](#ch10)\n",
    "1. [Candlestick Charts](#ch11)\n",
    "1. [Bollinger Bands](#ch12)\n",
    "1. [Bank Facet plot](#ch13)\n"
   ]
  },
  {
   "cell_type": "markdown",
   "metadata": {},
   "source": [
    "<a id=\"ch1\"></a>\n",
    "## Introduction \n",
    "---\n",
    "\n",
    "In this project we will focus on exploratory data analysis of banks stock prices. We will use pandas to directly read data from **Yahoo Finance.** The main objective is to **analyze and visualize** different features from the dataset to have a better understanding of the bank industry and how it behaves.\n",
    "\n",
    "We will focus on bank stocks and see how they progressed throughout the [financial crisis](https://en.wikipedia.org/wiki/Financial_crisis_of_2007%E2%80%9308) all the way to early 2020.\n",
    "\n",
    "\n",
    "The following questions will be answered throughout the Notebook:\n",
    "* ***What is the max Close price for each bank's stock throughout the time period?***\n",
    "* ***On what date did Citigroup stock reach its highest price?***\n",
    "* ***Why does the first row have NaN values?***\n",
    "* ***Did anything significant happen on 2009-01-20?***\n",
    "* ***Which stock would you classify as the riskiest over the entire time period?***\n",
    "* ***Which would you classify as the riskiest for the year 2015?***\n",
    "* ***What is the rolling 30 day average against the Close Price for Bank Of America's stock for the year 2008?***\n",
    "\n",
    "<img src=\"https://images.pexels.com/photos/241544/pexels-photo-241544.jpeg?auto=compress&cs=tinysrgb&dpr=3&h=750&w=1260\" title=\"source: www.pexels.com\" width=\"700\" height=\"700\"/>\n",
    "<br>"
   ]
  },
  {
   "cell_type": "markdown",
   "metadata": {},
   "source": [
    "<a id=\"ch2\"></a>\n",
    "## Get the Data\n",
    "---\n",
    "We will use pandas to directly read data from [Yahoo Finance](https://finance.yahoo.com/). First we need to install [pandas-datareader](https://pandas-datareader.readthedocs.io/en/latest/) for this to work. Pandas datareader allows you to read stock information directly form the internet. \n"
   ]
  },
  {
   "cell_type": "markdown",
   "metadata": {},
   "source": [
    "<a id=\"ch3\"></a>\n",
    "## Data\n",
    "<hr/>\n",
    "\n",
    "* Stock data from Jan 1st 2006 to Jan 1st 2020.\n",
    "* Six banks. \n",
    "* 6 columns and 3523 rows.\n",
    "* Source: Yahoo Finance. \n",
    "\n",
    "We will get stock information for the following banks:\n",
    "* [Bank of America (BAC)](https://en.wikipedia.org/wiki/Bank_of_America)\n",
    "* [CitiGroup (C)](https://en.wikipedia.org/wiki/Citigroup)\n",
    "* [Goldman Sachs (GS)](https://en.wikipedia.org/wiki/Goldman_Sachs)\n",
    "* [JPMorgan Chase (JPM)](https://en.wikipedia.org/wiki/JPMorgan_Chase)\n",
    "* [Morgan Stanley (MS)](https://en.wikipedia.org/wiki/Morgan_Stanley)\n",
    "* [Wells Fargo (WFC)](https://en.wikipedia.org/wiki/Wells_Fargo)\n",
    "\n",
    "***Feature Columns***\n",
    "    \n",
    "* **High:** Is the highest price at which a stock traded during the course of the trading day. \n",
    "* **Low:** Is the lowest price at which a stock traded during the course of the trading day.\n",
    "* **Open:** Is the price at which a stock started trading when the opening bell rang.\n",
    "* **Close:** Is the last price at which a stock trades during a regular trading session.\n",
    "* **Volume:** Is the number of shares that changed hands during a given day. \n",
    "* **Adj Close:** The adjusted closing price amends a stock's closing price to reflect that stock's value after accounting for any corporate actions. Factors in corporate actions, such as stock splits, dividends, and rights offerings.\n",
    "\n"
   ]
  },
  {
   "cell_type": "markdown",
   "metadata": {},
   "source": [
    "### Imports"
   ]
  },
  {
   "cell_type": "code",
   "execution_count": 2,
   "metadata": {},
   "outputs": [
    {
     "name": "stdout",
     "output_type": "stream",
     "text": [
      "Collecting plotly\n",
      "  Downloading plotly-5.10.0-py2.py3-none-any.whl (15.2 MB)\n",
      "Collecting tenacity>=6.2.0\n",
      "  Downloading tenacity-8.0.1-py3-none-any.whl (24 kB)\n",
      "Installing collected packages: tenacity, plotly\n",
      "Successfully installed plotly-5.10.0 tenacity-8.0.1\n"
     ]
    },
    {
     "ename": "ModuleNotFoundError",
     "evalue": "No module named 'cufflinks'",
     "output_type": "error",
     "traceback": [
      "\u001b[1;31m---------------------------------------------------------------------------\u001b[0m",
      "\u001b[1;31mModuleNotFoundError\u001b[0m                       Traceback (most recent call last)",
      "\u001b[1;32m<ipython-input-2-e55e82774eeb>\u001b[0m in \u001b[0;36m<module>\u001b[1;34m\u001b[0m\n\u001b[0;32m     19\u001b[0m \u001b[1;32mimport\u001b[0m \u001b[0mplotly\u001b[0m\u001b[1;33m.\u001b[0m\u001b[0mexpress\u001b[0m \u001b[1;32mas\u001b[0m \u001b[0mpx\u001b[0m\u001b[1;33m\u001b[0m\u001b[1;33m\u001b[0m\u001b[0m\n\u001b[0;32m     20\u001b[0m \u001b[1;32mfrom\u001b[0m \u001b[0mplotly\u001b[0m\u001b[1;33m.\u001b[0m\u001b[0msubplots\u001b[0m \u001b[1;32mimport\u001b[0m \u001b[0mmake_subplots\u001b[0m\u001b[1;33m\u001b[0m\u001b[1;33m\u001b[0m\u001b[0m\n\u001b[1;32m---> 21\u001b[1;33m \u001b[1;32mimport\u001b[0m \u001b[0mcufflinks\u001b[0m \u001b[1;32mas\u001b[0m \u001b[0mcf\u001b[0m\u001b[1;33m\u001b[0m\u001b[1;33m\u001b[0m\u001b[0m\n\u001b[0m\u001b[0;32m     22\u001b[0m \u001b[0mcf\u001b[0m\u001b[1;33m.\u001b[0m\u001b[0mgo_offline\u001b[0m\u001b[1;33m(\u001b[0m\u001b[1;33m)\u001b[0m\u001b[1;33m\u001b[0m\u001b[1;33m\u001b[0m\u001b[0m\n",
      "\u001b[1;31mModuleNotFoundError\u001b[0m: No module named 'cufflinks'"
     ]
    }
   ],
   "source": [
    "# data analysis and wrangling\n",
    "import pandas as pd\n",
    "from pandas_datareader import data\n",
    "import numpy as np\n",
    "import random as rnd\n",
    "import datetime\n",
    "\n",
    "# visualization\n",
    "import seaborn as sns\n",
    "import matplotlib.pyplot as plt\n",
    "sns.set_style('whitegrid')\n",
    "%matplotlib inline\n",
    "\n",
    "!pip install plotly\n",
    "\n",
    "# plotly\n",
    "import plotly\n",
    "import plotly.graph_objects as go\n",
    "import plotly.express as px\n",
    "from plotly.subplots import make_subplots\n",
    "import cufflinks as cf\n",
    "cf.go_offline()"
   ]
  },
  {
   "cell_type": "markdown",
   "metadata": {},
   "source": [
    "We want to analyze the behavior of the stock price of these banks. We will get stock data from Jan 1st 2006 to Jan 1st 2020 for each of these banks. Then, set each bank to be a separate dataframe, with the variable name for that bank being its ticker symbol. This will involve a few steps:\n",
    "1. Use datetime to set start and end datetime objects.\n",
    "2. Figure out how to use datareader to grab info on the stock.\n",
    "\n",
    "**Documentation: [Remote Data Access](https://pandas-datareader.readthedocs.io/en/latest/remote_data.html)**"
   ]
  },
  {
   "cell_type": "code",
   "execution_count": null,
   "metadata": {},
   "outputs": [],
   "source": [
    "# set the start date and end date.\n",
    "start = datetime.datetime(2006,1,1)\n",
    "end = datetime.datetime(2020,1,1)\n",
    "\n",
    "# Set each bank to be a separate dataframe\n",
    "BAC = data.DataReader(\"BAC\", 'yahoo', start, end)\n",
    "C = data.DataReader(\"C\", 'yahoo', start, end)\n",
    "GS = data.DataReader(\"GS\", 'yahoo', start, end)\n",
    "JPM = data.DataReader(\"JPM\", 'yahoo', start, end)\n",
    "MS = data.DataReader(\"MS\", 'yahoo', start, end)\n",
    "WFC = data.DataReader(\"WFC\", 'yahoo', start, end)"
   ]
  },
  {
   "cell_type": "code",
   "execution_count": null,
   "metadata": {},
   "outputs": [],
   "source": [
    "# preview one dataframe\n",
    "BAC.head()"
   ]
  },
  {
   "cell_type": "markdown",
   "metadata": {},
   "source": [
    "Let's create a list of the ticker symbols (as strings) in alphabetical order."
   ]
  },
  {
   "cell_type": "code",
   "execution_count": null,
   "metadata": {},
   "outputs": [],
   "source": [
    "tickers = ['BAC', 'C', 'GS', 'JPM', 'MS', 'WFC']"
   ]
  },
  {
   "cell_type": "markdown",
   "metadata": {},
   "source": [
    "Use `pd.concat` to concatenate the bank dataframes together to a single data frame called bank_stocks. Set the keys argument equal to the tickers list."
   ]
  },
  {
   "cell_type": "code",
   "execution_count": null,
   "metadata": {},
   "outputs": [],
   "source": [
    "bank_stocks = pd.concat([BAC, C, GS, JPM, MS, WFC], axis=1, keys=tickers)\n",
    "# bank_stocks"
   ]
  },
  {
   "cell_type": "markdown",
   "metadata": {},
   "source": [
    "Set the column name levels:"
   ]
  },
  {
   "cell_type": "code",
   "execution_count": null,
   "metadata": {},
   "outputs": [],
   "source": [
    "bank_stocks.columns.names = ['Bank Ticker','Stock Info']\n",
    "bank_stocks.head()"
   ]
  },
  {
   "cell_type": "markdown",
   "metadata": {},
   "source": [
    "<a id=\"ch4\"></a>\n",
    "## Exploratory Data Analysis\n",
    "---\n",
    "[Exploratory data analysis](https://en.wikipedia.org/wiki/Exploratory_data_analysis) is an approach to analyzing data sets to summarize their main characteristics, often with visual methods. In this case we are going to visualize and analyze the historical data of these banks and try to find relevant information.\n",
    "\n"
   ]
  },
  {
   "cell_type": "markdown",
   "metadata": {},
   "source": [
    "***What is the max Close price for each bank's stock throughout the time period?***\n",
    "* The bank with the highest stock price is Citigroup."
   ]
  },
  {
   "cell_type": "code",
   "execution_count": null,
   "metadata": {},
   "outputs": [],
   "source": [
    "bank_stocks.xs('Close', axis=1, level='Stock Info').max()"
   ]
  },
  {
   "cell_type": "markdown",
   "metadata": {},
   "source": [
    "***On what date did Citigroup stock reach its highest price?***"
   ]
  },
  {
   "cell_type": "code",
   "execution_count": null,
   "metadata": {},
   "outputs": [],
   "source": [
    "C['Close'].idxmax()"
   ]
  },
  {
   "cell_type": "markdown",
   "metadata": {},
   "source": [
    "### Returns DataFrame\n",
    "Now we are going to create a new empty DataFrame called returns. This dataframe will contain the returns for each bank's stock. \n",
    "\n",
    "Returns are typically defined by:\n",
    "\n",
    "$$r_t = \\frac{p_t - p_{t-1}}{p_{t-1}} = \\frac{p_t}{p_{t-1}} - 1$$"
   ]
  },
  {
   "cell_type": "code",
   "execution_count": null,
   "metadata": {},
   "outputs": [],
   "source": [
    "# empty dataframe\n",
    "returns = pd.DataFrame()"
   ]
  },
  {
   "cell_type": "markdown",
   "metadata": {},
   "source": [
    "We can use pandas `pct_change()` method on the Close column to create a column representing this return value. Then we can create a for loop that goes and for each Bank Stock Ticker creates this returns column and set's it as a column in the returns DataFrame.\n",
    "\n",
    "***Why does the first row have NaN values?***\n",
    "\n",
    "* Our first value has NaN because you can not get a percent return on the very first day because there is nothing in the past to compare it to."
   ]
  },
  {
   "cell_type": "code",
   "execution_count": null,
   "metadata": {},
   "outputs": [],
   "source": [
    "for tick in tickers:\n",
    "    returns[tick + ' Return'] = bank_stocks[tick]['Close'].pct_change()\n",
    "\n",
    "returns.head(3)"
   ]
  },
  {
   "cell_type": "markdown",
   "metadata": {},
   "source": [
    "Let's create a [pairplot](https://seaborn.pydata.org/generated/seaborn.pairplot.html) using seaborn of the returns dataframe. \n",
    "\n"
   ]
  },
  {
   "cell_type": "code",
   "execution_count": null,
   "metadata": {},
   "outputs": [],
   "source": [
    "sns.pairplot(returns[1:])"
   ]
  },
  {
   "cell_type": "markdown",
   "metadata": {},
   "source": [
    "Using this returns DataFrame, we will figure out on what dates each bank stock had the best and worst single day returns. Notice that 4 of the banks share the same day for the worst drop.\n",
    "\n",
    "***Did anything significant happen on 2009-01-20?***\n",
    "* It can be seen that of the 6 banks, 4 had their worst performance on the same day.\n",
    "* President Obama took office on Jan. 20, 2009. [(More information here)](https://www.investopedia.com/ask/answers/101314/where-was-dow-jones-when-obama-took-office.asp)\n",
    "* The [subprime mortgage crisis](https://en.wikipedia.org/wiki/Subprime_mortgage_crisis) also had a mayor part in the decline of prices.\n",
    "* Markets had little confidence in the economy and the future was uncertain.\n",
    "* The banking sector in general declining by 30%.\n",
    "* Bank of America Corporation (BAC) dropped 29%, and Citigroup Inc. (C) sank 20%.\n",
    "* The S&P 500 and the Nasdaq took similar hits on inauguration day, dropping 5.3% and 5.8%, respectively."
   ]
  },
  {
   "cell_type": "code",
   "execution_count": null,
   "metadata": {},
   "outputs": [],
   "source": [
    "# Biggest single day losses\n",
    "returns.idxmin()"
   ]
  },
  {
   "cell_type": "markdown",
   "metadata": {},
   "source": [
    "<a id=\"ch5\"></a>\n",
    "## Standard Deviation\n",
    "Let's take a look at the standard deviation of the returns.\n",
    "\n",
    "**[Standard Deviation](https://en.wikipedia.org/wiki/Standard_deviation):** Is a measure of the amount of variation or dispersion of a set of values. A low standard deviation indicates that the values tend to be close to the mean of the set, while a high standard deviation indicates that the values are spread out over a wider range.\n",
    "\n",
    "Standard deviation is the statistical measure of market volatility, measuring how widely prices are dispersed from the average price. If prices trade in a narrow trading range, the standard deviation will return a low value that indicates low volatility. Conversely, if prices swing wildly up and down, then standard deviation returns a high value that indicates high volatility.\n",
    "\n",
    "**Basically, standard deviation rises as prices become more volatile. As price action calms, standard deviation heads lower.**\n",
    "\n",
    "***Which stock would you classify as the riskiest over the entire time period?***\n",
    "* Looks like the two most riskiest stocks are Citigroup and Morgan Stanley."
   ]
  },
  {
   "cell_type": "code",
   "execution_count": null,
   "metadata": {},
   "outputs": [],
   "source": [
    "# Standard Deviation \n",
    "returns.std().plot(kind='bar', color='Green')\n",
    "plt.ylabel('Standard Deviation')\n",
    "plt.title('Banks Standard Deviation', fontsize=15)\n",
    "sns.despine()"
   ]
  },
  {
   "cell_type": "markdown",
   "metadata": {},
   "source": [
    "***Which would you classify as the riskiest for the year 2015?***\n",
    "* They all have a similar risk profile with Wells Fargo being the lowest risk by not that much."
   ]
  },
  {
   "cell_type": "code",
   "execution_count": null,
   "metadata": {},
   "outputs": [],
   "source": [
    "# 2015 Standard Deviation\n",
    "returns.loc['2015-01-01':'2015-12-31'].std().plot(kind='bar', color='Green')\n",
    "plt.ylabel('Standard Deviation')\n",
    "plt.title('2015 Banks Standard Deviation', fontsize=15)\n",
    "sns.despine()"
   ]
  },
  {
   "cell_type": "markdown",
   "metadata": {},
   "source": [
    "**Create a distplot using seaborn of the 2015 returns for Morgan Stanley.**\n",
    "* We can see that the distribution is pretty stable."
   ]
  },
  {
   "cell_type": "code",
   "execution_count": null,
   "metadata": {},
   "outputs": [],
   "source": [
    "plt.figure(figsize=(10,8))\n",
    "ax = sns.distplot(returns.loc['2015-01-01':'2015-12-31']['MS Return'], color='green', bins=50)\n",
    "ax.set_title('2015 Morgan Stanley Returns')\n",
    "ax.set_xlabel('Returns')\n",
    "ax.set_ylabel('Numbers of Returns')"
   ]
  },
  {
   "cell_type": "markdown",
   "metadata": {},
   "source": [
    "**Create a distplot using seaborn of the 2008 returns for CitiGroup**\n",
    "* Notice that the standard deviation is actually more stretched out. \n",
    "* If you look a normal year like 2015, a normal deviation is 0.06 and for CitiGroup in 2008 was 0.6. That is actually 10 times more deviation. "
   ]
  },
  {
   "cell_type": "code",
   "execution_count": null,
   "metadata": {},
   "outputs": [],
   "source": [
    "plt.figure(figsize=(10,8))\n",
    "ax = sns.distplot(returns.loc['2008-01-01':'2008-12-31']['C Return'], color='red', bins=50)\n",
    "ax.set_title('2008 CitiGroup Returns')\n",
    "ax.set_xlabel('Returns')\n",
    "ax.set_ylabel('Numbers of Returns')"
   ]
  },
  {
   "cell_type": "markdown",
   "metadata": {},
   "source": [
    "<a id=\"ch6\"></a>\n",
    "## Pearson correlation matrix\n",
    "We use the [Pearson correlation coefficient](https://en.wikipedia.org/wiki/Pearson_correlation_coefficient#:~:text=In%20statistics%2C%20the%20Pearson%20correlation,between%20%2B1%20and%20%E2%88%921.) to examine the strength and direction of the linear relationship between two continuous variables.\n",
    "\n",
    "The correlation coefficient can range in value from −1 to +1. The larger the absolute value of the coefficient, the stronger the relationship between the variables. For the Pearson correlation, an absolute value of 1 indicates a perfect linear relationship. A correlation close to 0 indicates no linear relationship between the variables. \n",
    "\n",
    "The sign of the coefficient indicates the direction of the relationship. If both variables tend to increase or decrease together, the coefficient is positive, and the line that represents the correlation slopes upward. If one variable tends to increase as the other decreases, the coefficient is negative, and the line that represents the correlation slopes downward.\n",
    "\n",
    "Let's create a heatmap of the correlation between the stocks Close Price."
   ]
  },
  {
   "cell_type": "code",
   "execution_count": null,
   "metadata": {},
   "outputs": [],
   "source": [
    "plt.figure(figsize=(7,6))\n",
    "plt.title('Pearson Correlation Matrix',fontsize=15)\n",
    "sns.heatmap(bank_stocks.xs(key='Close', axis=1, level='Stock Info').corr(), annot=True, cmap='GnBu',\n",
    "            linewidths=0.25, linecolor='w', cbar_kws={\"shrink\": .7})"
   ]
  },
  {
   "cell_type": "markdown",
   "metadata": {},
   "source": [
    "Now we can use the same correlation of above to plot a [clustermap.](https://seaborn.pydata.org/generated/seaborn.clustermap.html) "
   ]
  },
  {
   "cell_type": "code",
   "execution_count": null,
   "metadata": {},
   "outputs": [],
   "source": [
    "sns.clustermap(bank_stocks.xs(key='Close', axis=1, level='Stock Info').corr(), annot=True, cmap='coolwarm')"
   ]
  },
  {
   "cell_type": "markdown",
   "metadata": {},
   "source": [
    "<a id=\"ch7\"></a>\n",
    "## Financial Charts \n",
    "---\n"
   ]
  },
  {
   "cell_type": "markdown",
   "metadata": {},
   "source": [
    "Let's create a line plot showing Close price for each bank for the entire index of time.\n",
    "* Now we can clearly see the crash of Citigroup in 2008.\n",
    "* Goldman Sachs also had a crash in 2008 but bounce back quite quickly after the recession."
   ]
  },
  {
   "cell_type": "code",
   "execution_count": null,
   "metadata": {},
   "outputs": [],
   "source": [
    "# Option N°1\n",
    "for tick in tickers:\n",
    "    bank_stocks[tick]['Close'].plot(label=tick, figsize=(12,6))\n",
    "plt.legend()"
   ]
  },
  {
   "cell_type": "markdown",
   "metadata": {},
   "source": [
    "<a id=\"ch8\"></a>\n",
    "## Returns Histograms\n",
    "\n",
    "Documentation:[Histograms in Python](https://plotly.com/python/histograms/)\n",
    "\n",
    "We are showing the returns of each bank from 2018 to 2020."
   ]
  },
  {
   "cell_type": "code",
   "execution_count": null,
   "metadata": {},
   "outputs": [],
   "source": [
    "fig = make_subplots(rows=3, cols=2)\n",
    "\n",
    "trace0 = go.Histogram(x=returns.loc['2018-01-01':'2019-12-31']['BAC Return'], nbinsx=50, name=\"BAC\")\n",
    "trace1 = go.Histogram(x=returns.loc['2018-01-01':'2019-12-31']['C Return'], nbinsx=50, name=\"C\")\n",
    "trace2 = go.Histogram(x=returns.loc['2018-01-01':'2019-12-31']['GS Return'], nbinsx=50, name=\"GS\")\n",
    "trace3 = go.Histogram(x=returns.loc['2018-01-01':'2019-12-31']['JPM Return'], nbinsx=50, name=\"JPM\")\n",
    "trace4 = go.Histogram(x=returns.loc['2018-01-01':'2019-12-31']['MS Return'], nbinsx=50, name=\"MS\")\n",
    "trace5 = go.Histogram(x=returns.loc['2018-01-01':'2019-12-31']['WFC Return'], nbinsx=50, name=\"WFC\")\n",
    "\n",
    "fig.append_trace(trace0, 1, 1)\n",
    "fig.append_trace(trace1, 1, 2)\n",
    "fig.append_trace(trace2, 2, 1)\n",
    "fig.append_trace(trace3, 2, 2)\n",
    "fig.append_trace(trace4, 3, 1)\n",
    "fig.append_trace(trace5, 3, 2)\n",
    "\n",
    "fig.update_layout(title_text='Banks Returns (2018 - 2019)')\n",
    "\n",
    "fig.show()"
   ]
  },
  {
   "cell_type": "markdown",
   "metadata": {},
   "source": [
    "<a id=\"ch9\"></a>\n",
    "## Moving Averages\n",
    "---\n",
    "The [moving average (MA)](https://en.wikipedia.org/wiki/Moving_average) is a simple technical analysis tool that smooths out price data by creating a constantly updated average price. The average is taken over a specific period of time, like 10 days, 20 minutes, 30 weeks or any time period the trader chooses. The most common applications of moving averages are to identify trend direction and to determine support and resistance levels.\n",
    "\n",
    "Let's analyze the moving averages for these stocks in the year 2008. \n",
    "\n",
    "***What is the rolling 30 day average against the Close Price for Bank Of America's stock for the year 2008?***"
   ]
  },
  {
   "cell_type": "code",
   "execution_count": null,
   "metadata": {},
   "outputs": [],
   "source": [
    "plt.figure(figsize=(12,6))\n",
    "BAC['Close'].loc['2008-01-01':'2008-12-31'].rolling(window=30).mean().plot(color='blue', label='30 Day Moving Average')\n",
    "BAC['Close'].loc['2008-01-01':'2008-12-31'].plot(color='green', label='BAC Close Price')\n",
    "plt.ylabel('Close Price')\n",
    "plt.xlabel('')\n",
    "plt.title('Bank Of America Moving Average')\n",
    "plt.legend()\n"
   ]
  },
  {
   "cell_type": "code",
   "execution_count": null,
   "metadata": {},
   "outputs": [],
   "source": [
    "BAC['Close'].loc['2008-01-01':'2008-12-31'].iplot(fill=True,colors=['green'])"
   ]
  },
  {
   "cell_type": "markdown",
   "metadata": {},
   "source": [
    "<a id=\"ch10\"></a>\n",
    "## Simple Moving Averages\n",
    "A [simple moving average (SMA)](https://www.investopedia.com/terms/s/sma.asp) calculates the average of a selected range of prices, usually closing prices, by the number of periods in that range. Is a technical indicator that can aid in determining if an asset price will continue or if it will reverse a bull or bear trend.\n",
    "\n",
    "Simple Moving Averages plot of Morgan Stanley for the year 2015."
   ]
  },
  {
   "cell_type": "code",
   "execution_count": null,
   "metadata": {},
   "outputs": [],
   "source": [
    "MS.loc['2015-01-01':'2016-01-01']['Close'].ta_plot(study='sma', periods=[13,21,55])"
   ]
  },
  {
   "cell_type": "markdown",
   "metadata": {
    "collapsed": true
   },
   "source": [
    "<a id=\"ch11\"></a>\n",
    "## Candlestick Charts\n",
    "---\n",
    "Documentation: [Candlestick Charts in Python](https://plotly.com/python/candlestick-charts/)\n",
    "\n",
    "The candlestick chart is a style of financial chart describing open, high, low and close for a given x coordinate (most likely time). The boxes represent the spread between the open and close values and the lines represent the spread between the low and high values. Sample points where the close value is higher (lower) then the open value are called increasing (decreasing). By default, increasing candles are drawn in green whereas decreasing are drawn in red.\n",
    "\n",
    "You can learn more about Candlestick Charts [here.](https://www.investopedia.com/trading/candlestick-charting-what-is-it/#:~:text=in%20candlestick%20charts.-,Candlestick%20Components,close%20of%20that%20day's%20trading.)\n",
    "\n",
    "Let's plot Bank of America stock price in Candlestick format. "
   ]
  },
  {
   "cell_type": "code",
   "execution_count": null,
   "metadata": {},
   "outputs": [],
   "source": [
    "# Bank of America Candlestick Chart\n",
    "fig = go.Figure(data=[go.Candlestick(x=BAC.index,\n",
    "                open=BAC['Open'],\n",
    "                high=BAC['High'],\n",
    "                low=BAC['Low'], \n",
    "                close=BAC['Close'])\n",
    "                ])\n",
    "\n",
    "fig.update_layout(\n",
    "    title='Bank of Amercia Stock Price',\n",
    "    yaxis_title='BAC Stock',\n",
    "    shapes = [dict(\n",
    "        x0='2009-01-20', x1='2009-01-20', y0=0, y1=1, xref='x', yref='paper', line_width=2),\n",
    "             dict(\n",
    "        x0='2007-12-01', x1='2007-12-01', y0=0, y1=1, xref='x', yref='paper', line_width=2)],\n",
    "    annotations=[dict(\n",
    "        x='2009-01-20', y=0.95, xref='x', yref='paper',\n",
    "        showarrow=False, xanchor='left', text='President Obama Took Office'), \n",
    "                 dict(\n",
    "        x='2007-12-01', y=0.1, xref='x', yref='paper',\n",
    "        showarrow=False, xanchor='right', text='Subprime Mortgage Crisis')]\n",
    ")\n",
    "\n",
    "fig.show()"
   ]
  },
  {
   "cell_type": "markdown",
   "metadata": {},
   "source": [
    "Use `.iplot(kind='candle)` to create a candle plot of Bank of America's stock from Jan 1st 2015 to Jan 1st 2016."
   ]
  },
  {
   "cell_type": "code",
   "execution_count": null,
   "metadata": {},
   "outputs": [],
   "source": [
    "# Bank of America Candlestick Chart\n",
    "BAC[['Open', 'High', 'Close', 'Low']].loc['2015-01-01':'2016-01-01'].iplot(kind='candle', \n",
    "                                                                           title='Bank of Amercia Stock Price', \n",
    "                                                                           yaxis_title='BAC Stock')"
   ]
  },
  {
   "cell_type": "markdown",
   "metadata": {},
   "source": [
    "<a id=\"ch12\"></a>\n",
    "## Bollinger Band\n",
    "A [Bollinger Band](https://www.fidelity.com/learning-center/trading-investing/technical-analysis/technical-indicator-guide/bollinger-bands#:~:text=Bollinger%20Bands%20are%20envelopes%20plotted,Period%20and%20Standard%20Deviations%2C%20StdDev.) is a technical analysis tool defined by a set of trendlines plotted two standard deviations (positively and negatively) away from a simple moving average (SMA) of a security's price, but which can be adjusted to user preferences.\n",
    "* When the bands tighten during a period of low volatility, it raises the likelihood of a sharp price move in either direction.\n",
    "* When the bands separate by an unusual large amount, volatility increases and any existing trend may be ending.\n",
    "* Prices have a tendency to bounce within the bands' envelope, touching one band then moving to the other band. You can use these swings to help identify potential profit targets.\n",
    "\n",
    "Use `.ta_plot(study='boll')` to create a Bollinger Band Plot for Bank of America for the year 2015."
   ]
  },
  {
   "cell_type": "code",
   "execution_count": null,
   "metadata": {},
   "outputs": [],
   "source": [
    "BAC.loc['2015-01-01':'2016-01-01']['Close'].ta_plot(study='boll',periods=14, title='Bollinger Bands')"
   ]
  },
  {
   "cell_type": "markdown",
   "metadata": {},
   "source": [
    "<a id=\"ch13\"></a>\n",
    "## Bank Facet plot\n",
    "Documentation: [Time Series and Date Axes in Python](https://plotly.com/python/time-series/)\n",
    "\n",
    "Facet plots, also known as trellis plots or small multiples, are figures made up of multiple subplots which have the same set of axes, where each subplot shows a subset of the data. \n",
    "\n",
    "In this faceted area plot we can see all the banks separately."
   ]
  },
  {
   "cell_type": "code",
   "execution_count": null,
   "metadata": {},
   "outputs": [],
   "source": [
    "fig = px.area(bank_stocks.xs(key='Close', axis=1, level='Stock Info'), facet_col=\"Bank Ticker\", facet_col_wrap=2)\n",
    "fig.show()"
   ]
  }
 ],
 "metadata": {
  "kernelspec": {
   "display_name": "Python 3.8.8 ('base')",
   "language": "python",
   "name": "python3"
  },
  "language_info": {
   "codemirror_mode": {
    "name": "ipython",
    "version": 3
   },
   "file_extension": ".py",
   "mimetype": "text/x-python",
   "name": "python",
   "nbconvert_exporter": "python",
   "pygments_lexer": "ipython3",
   "version": "3.8.8"
  },
  "vscode": {
   "interpreter": {
    "hash": "8db7974e21a57f68d695ca0595bc9e1f90c1d384d553520bbb8b9a5a632132ac"
   }
  }
 },
 "nbformat": 4,
 "nbformat_minor": 1
}
